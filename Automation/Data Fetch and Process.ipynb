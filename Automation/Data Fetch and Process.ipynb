{
 "cells": [
  {
   "cell_type": "code",
   "execution_count": 1,
   "metadata": {},
   "outputs": [],
   "source": [
    "# imports\n",
    "import selenium\n",
    "from selenium import webdriver\n",
    "from selenium.webdriver import ActionChains\n",
    "from selenium.webdriver.common.keys import Keys\n",
    "import time\n",
    "driver = webdriver.Chrome('./chromedriver')\n",
    "import pandas as pd\n",
    "import glob\n",
    "import os.path\n",
    "import json"
   ]
  },
  {
   "cell_type": "code",
   "execution_count": 2,
   "metadata": {},
   "outputs": [],
   "source": [
    "def Upload_Data_as_JSON(URL, New_Name):\n",
    "    # add country name\n",
    "    country_name = 'Mauritania'\n",
    "\n",
    "    time.sleep(2)\n",
    "    #Reads the URL \n",
    "    driver.get(URL)\n",
    "\n",
    "    #Waits till the page loads\n",
    "    time.sleep(60)\n",
    "\n",
    "    #finds the download button\n",
    "    s=driver.find_element_by_xpath('/html/body/div/div/div/div[1]/header/div/div/div[2]/div/div[1]/div/button/span[1]/div')\n",
    "\n",
    "    time.sleep(10)\n",
    "\n",
    "    s.click()\n",
    "\n",
    "    #Choose to export the data as excel\n",
    "    c=driver.find_element_by_xpath('/html/body/div/div/div/div[1]/header/div/div/div[2]/div/div[1]/div[2]/div[2]/div[2]/li[2]/span[1]')\n",
    "\n",
    "    time.sleep(10)\n",
    "\n",
    "    c.click()\n",
    "\n",
    "    print('Downloading Data')\n",
    "\n",
    "    time.sleep(60)\n",
    "\n",
    "    #Specify where the data usually loads and choose the last downloaded file\n",
    "    folder_path = '../../../../../Downloads/'\n",
    "\n",
    "    file_type = '/*xlsx'\n",
    "    files = glob.glob(folder_path + file_type)\n",
    "    max_file = max(files, key=os.path.getctime)\n",
    "\n",
    "\n",
    "    #Saving the data as dic instead of excel\n",
    "\n",
    "    df = pd.read_excel(max_file)\n",
    "    df = df.rename(lambda x: 'Country' if any(k in x for k in ['Country Name', 'Reporter', 'Country ']) else x, axis=1)\n",
    "    df = df[df['Country'] == country_name]\n",
    "    df = df.where(pd.notnull(df), None)\n",
    "    import_file = df.to_dict(orient='records')\n",
    "    print (import_file)\n",
    "    \n",
    "    #Save the file as a json with the name you specified\n",
    "    with open(New_Name+ '.json', 'w') as fp:\n",
    "        json.dump(import_file, fp)\n",
    "    \n",
    "    return import_file"
   ]
  },
  {
   "cell_type": "code",
   "execution_count": 3,
   "metadata": {},
   "outputs": [
    {
     "name": "stdout",
     "output_type": "stream",
     "text": [
      "Starting with Document:  0\n",
      "Downloading Data\n",
      "[{'Country': 'Mauritania', 'Partner': 'World', 'Flow': 'Foreign trade coverage ratio', 'Commodity': 'Total', 'Indicator': 'Value (percentage)', '2001': None, '2002': None, '2003': None, '2004': None, '2005': None, '2006': 104.636407615035, '2007': 95.177752514544, '2008': 102.962523953657, '2009': 82.4506319995774, '2010': 85.6397267324248, '2011': 100.278056993967, '2012': 88.33, '2013': 61.9, '2014': 58.76, '2015': 49.46, '2016': 74.65, '2017': 56.48, '2018': 64.4596586695983, '2019': 64.3915394205542}, {'Country': 'Mauritania', 'Partner': 'World', 'Flow': 'Imports excluding oil products', 'Commodity': 'Total', 'Indicator': 'Total value (US dollars)', '2001': None, '2002': None, '2003': None, '2004': None, '2005': None, '2006': None, '2007': None, '2008': None, '2009': None, '2010': None, '2011': None, '2012': 2192520397.0, '2013': 3190884021.0, '2014': 2912625952.0, '2015': 3135975450.0, '2016': 1754289843.0, '2017': 2884444784.0, '2018': None, '2019': None}, {'Country': 'Mauritania', 'Partner': 'World', 'Flow': 'Imports', 'Commodity': 'Total', 'Indicator': 'Growth rate -  base year 2001', '2001': None, '2002': None, '2003': None, '2004': None, '2005': None, '2006': None, '2007': None, '2008': None, '2009': None, '2010': None, '2011': None, '2012': 12.7916754587105, '2013': 13.1044776989342, '2014': 12.695122841931, '2015': 11.7765730130519, '2016': 10.0645686384941, '2017': 9.63855034582108, '2018': 9.18387884131851, '2019': 8.54736736149274}, {'Country': 'Mauritania', 'Partner': 'World', 'Flow': 'Imports', 'Commodity': 'Total', 'Indicator': 'Total value (US dollars)', '2001': None, '2002': None, '2003': None, '2004': None, '2005': None, '2006': None, '2007': None, '2008': 2288005473.50333, '2009': 2118468789.45753, '2010': 2553860688.05003, '2011': 2451183084.0, '2012': 2970620169.0, '2013': 3978492216.0, '2014': 3641758357.0, '2015': 3703426739.0, '2016': 2173837868.0, '2017': 3522414447.0, '2018': 3183160464.0, '2019': 3519825018.0}, {'Country': 'Mauritania', 'Partner': 'World', 'Flow': 'Imports', 'Commodity': 'Total', 'Indicator': 'Trade conversion factors in national currencies per US dollar', '2001': None, '2002': None, '2003': None, '2004': None, '2005': None, '2006': None, '2007': None, '2008': None, '2009': None, '2010': None, '2011': None, '2012': 296.73590504451, '2013': 301.204819277108, '2014': 304.878048780488, '2015': 322.58064516129, '2016': 343.76, '2017': 358.680057388809, '2018': None, '2019': None}, {'Country': 'Mauritania', 'Partner': 'World', 'Flow': 'Exports excluding oil products', 'Commodity': 'Total', 'Indicator': 'Total value (US dollars)', '2001': None, '2002': None, '2003': None, '2004': None, '2005': None, '2006': None, '2007': None, '2008': None, '2009': None, '2010': None, '2011': None, '2012': 2278690238.0, '2013': 2399908454.0, '2014': 2080507240.0, '2015': 1751852265.0, '2016': 1622761607.0, '2017': 1989430590.0, '2018': 2051854370.0, '2019': 2266469514.0}, {'Country': 'Mauritania', 'Partner': 'World', 'Flow': 'Exports', 'Commodity': 'Total', 'Indicator': 'Growth rate -  base year 2001', '2001': None, '2002': None, '2003': None, '2004': None, '2005': None, '2006': None, '2007': None, '2008': None, '2009': None, '2010': None, '2011': None, '2012': 22.44, '2013': 20.81, '2014': 18.79, '2015': 16.93, '2016': 14.77, '2017': 13.4, '2018': 12.65, '2019': 11.4}, {'Country': 'Mauritania', 'Partner': 'World', 'Flow': 'Exports', 'Commodity': 'Total', 'Indicator': 'Total value (US dollars)', '2001': None, '2002': None, '2003': None, '2004': None, '2005': None, '2006': None, '2007': None, '2008': 2355788183.7168603, '2009': 1746690905.62153, '2010': 2187119314.37287, '2011': 2457998770.0, '2012': 2623807382.0, '2013': 2462517243.0, '2014': 2139810562.0, '2015': 1831726983.0, '2016': 1622761607.0, '2017': 1989430590.0, '2018': 2051854370.0, '2019': 2266469514.0}, {'Country': 'Mauritania', 'Partner': 'World', 'Flow': 'Exports', 'Commodity': 'Total', 'Indicator': 'Trade conversion factors in national currencies per US dollar', '2001': None, '2002': None, '2003': None, '2004': None, '2005': None, '2006': None, '2007': None, '2008': None, '2009': None, '2010': None, '2011': None, '2012': 296.73590504451, '2013': 300.3003003003, '2014': 303.030303030303, '2015': 324.675324675325, '2016': 343.76, '2017': 357.78175313059, '2018': None, '2019': None}, {'Country': 'Mauritania', 'Partner': 'World', 'Flow': 'Balance of trade', 'Commodity': 'Total', 'Indicator': 'Total value (US dollars)', '2001': None, '2002': None, '2003': None, '2004': None, '2005': None, '2006': None, '2007': None, '2008': 67782710.21353006, '2009': -371777883.836, '2010': -366741373.67716, '2011': 6815686.0, '2012': -346812789.0, '2013': -1515974969.0, '2014': -1501947793.0, '2015': -1871699755.0, '2016': -551076261.0, '2017': -1532983857.0, '2018': -1131306094.0, '2019': -1253355504.0}, {'Country': 'Mauritania', 'Partner': 'World', 'Flow': 'Imports to GDP ratio', 'Commodity': 'Total', 'Indicator': 'Value (percentage)', '2001': None, '2002': None, '2003': None, '2004': None, '2005': None, '2006': 63.5673760409252, '2007': 58.9826876243266, '2008': 68.1611575757868, '2009': 52.5538010174258, '2010': 69.7341417101001, '2011': 56.5076275929546, '2012': 44.0, '2013': 55.0, '2014': 55.34, '2015': 60.0, '2016': 34.0, '2017': 52.0, '2018': 45.15653001757, '2019': 46.3516323295603}, {'Country': 'Mauritania', 'Partner': 'World', 'Flow': 'Exports to GDP ratio', 'Commodity': 'Total', 'Indicator': 'Value (percentage)', '2001': None, '2002': None, '2003': None, '2004': None, '2005': None, '2006': 66.5146187043647, '2007': 56.1383964535081, '2008': 70.1804481960597, '2009': 43.3309410786679, '2010': 59.7201283997316, '2011': 56.6647510036017, '2012': 39.0, '2013': 34.0, '2014': 33.0, '2015': 30.0, '2016': 25.0, '2017': 29.0, '2018': 29.1077451163603, '2019': 29.8465296035592}, {'Country': 'Mauritania', 'Partner': 'World', 'Flow': 'Trade balance to GDP ratio', 'Commodity': 'Total', 'Indicator': 'Value (percentage)', '2001': None, '2002': None, '2003': None, '2004': None, '2005': None, '2006': 2.9472426634395, '2007': -2.84429117081848, '2008': 2.01929062027287, '2009': -9.22285993875791, '2010': -10.0140133103685, '2011': 0.157123410647074, '2012': -5.0, '2013': -21.0, '2014': -23.0, '2015': -30.0, '2016': -9.0, '2017': -23.0, '2018': -16.0487849012097, '2019': -16.5051027260011}, {'Country': 'Mauritania', 'Partner': 'World', 'Flow': 'Trade to GDP ratio', 'Commodity': 'Total', 'Indicator': 'Value (percentage)', '2001': None, '2002': None, '2003': None, '2004': None, '2005': None, '2006': 130.08199474529, '2007': 115.121084077835, '2008': 138.34160577184701, '2009': 95.8847420960938, '2010': 129.454270109832, '2011': 113.172378596556, '2012': 83.0, '2013': 89.17, '2014': 87.85, '2015': 89.76, '2016': 59.33, '2017': 82.0, '2018': 74.2642751339303, '2019': 76.1981619331195}, {'Country': 'Mauritania', 'Partner': 'World', 'Flow': 'Trade as percentage of ESCWA total trade', 'Commodity': 'Total', 'Indicator': 'Value (percentage)', '2001': None, '2002': None, '2003': None, '2004': None, '2005': None, '2006': None, '2007': None, '2008': None, '2009': None, '2010': None, '2011': None, '2012': 0.3, '2013': 0.3, '2014': 0.3, '2015': 0.3, '2016': 0.2, '2017': 0.0, '2018': None, '2019': None}, {'Country': 'Mauritania', 'Partner': 'World', 'Flow': 'Export market share to ESCWA total exports', 'Commodity': 'Total', 'Indicator': 'Value (percentage)', '2001': None, '2002': None, '2003': None, '2004': None, '2005': None, '2006': None, '2007': None, '2008': None, '2009': None, '2010': None, '2011': None, '2012': 0.19, '2013': 0.17, '2014': 0.16, '2015': 0.18, '2016': 0.2, '2017': 0.23, '2018': None, '2019': None}]\n",
      "Finished document:  0\n"
     ]
    },
    {
     "name": "stderr",
     "output_type": "stream",
     "text": [
      "/Users/malabdal/opt/anaconda3/lib/python3.8/site-packages/openpyxl/styles/stylesheet.py:214: UserWarning: Workbook contains no default style, apply openpyxl's default\n",
      "  warn(\"Workbook contains no default style, apply openpyxl's default\")\n"
     ]
    }
   ],
   "source": [
    "#Add the URLs\n",
    "URLs=[\n",
    "#     'https://data.unescwa.org/portal/c78f8929-babc-40d9-8d9b-a5438396d3a7', #National Accounts\n",
    "#     'https://data.unescwa.org/portal/37e07376-dcab-4c77-b25d-b63c6c1c0d4b', #Finance\n",
    "    'https://data.unescwa.org/portal/a2f766e6-f2c0-4444-aa73-ccd0d7abf05d', #Trade\n",
    "#     'https://data.unescwa.org/portal/79a73daa-8d9e-47dd-b1ee-bfed2b22124e', #Transport\n",
    "#     'https://data.unescwa.org/portal/ae81b7b7-05b5-4b39-b87a-1243bef7b232', #Industry\n",
    "#     'https://data.unescwa.org/portal/CPI',                                  #CPI\n",
    "#     'https://data.unescwa.org/portal/a400b071-fd51-4aac-87ae-175627339bdd', #ICP\n",
    "#     'https://data.unescwa.org/portal/gems_data',                            #GEMS\n",
    "#     'https://data.unescwa.org/portal/7bae8f12-f543-407f-9afa-29471d6b7c6d', #Population\n",
    "#     'https://data.unescwa.org/portal/e68647fb-ea6d-488d-a6f5-2024b080c2cc', #Household Budget\n",
    "#     'https://data.unescwa.org/portal/8c972cac-a80c-4bd4-8208-74c6a092e225', #Health\n",
    "#     'https://data.unescwa.org/portal/e7d41253-2cf5-4f3b-ba5f-6c45b8af1f88', #Education\n",
    "#     'https://data.unescwa.org/portal/69b86687-53d8-4c50-b5d7-b6c96df42d0b', #Labor\n",
    "#     'https://data.unescwa.org/portal/e28b867b-13b6-4d97-ad5e-85264879c2ef', #Environment\n",
    "#     'https://data.unescwa.org/portal/ed5c2876-01e0-492b-9fad-49702ec6d934' #Energy\n",
    "#     'https://data.unescwa.org/share/618997eb-93eb-466c-b768-50557b5ae7b2' #SDG\n",
    "\n",
    "    ]\n",
    "\n",
    "#Names of the new saved data\n",
    "\n",
    "Names=[\n",
    "#     'National Accounts',\n",
    "#     'Finance',\n",
    "    'Trade',\n",
    "#     'Transport',\n",
    "#     'Industry',\n",
    "#     'CPI',\n",
    "#     'ICP',\n",
    "#     'GEMS',\n",
    "#     'Population',\n",
    "#     'Household Budget',\n",
    "#     'Health',\n",
    "#     'Education',\n",
    "#     'Labor',\n",
    "#     'Environment',\n",
    "#     'Energy'\n",
    "#     'SDG'\n",
    "\n",
    "    \n",
    "    ]\n",
    "\n",
    "   \n",
    "for i in range(len(URLs)):\n",
    "    print(\"Starting with Document: \" ,i)\n",
    "    Upload_Data_as_JSON(URLs[i], Names[i])\n",
    "    print(\"Finished document: \" , i)\n"
   ]
  },
  {
   "cell_type": "code",
   "execution_count": null,
   "metadata": {},
   "outputs": [],
   "source": []
  },
  {
   "cell_type": "code",
   "execution_count": null,
   "metadata": {},
   "outputs": [],
   "source": []
  }
 ],
 "metadata": {
  "kernelspec": {
   "display_name": "Python 3",
   "language": "python",
   "name": "python3"
  },
  "language_info": {
   "codemirror_mode": {
    "name": "ipython",
    "version": 3
   },
   "file_extension": ".py",
   "mimetype": "text/x-python",
   "name": "python",
   "nbconvert_exporter": "python",
   "pygments_lexer": "ipython3",
   "version": "3.8.5"
  }
 },
 "nbformat": 4,
 "nbformat_minor": 4
}
